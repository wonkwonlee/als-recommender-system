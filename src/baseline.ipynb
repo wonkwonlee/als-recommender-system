{
 "cells": [
  {
   "cell_type": "code",
   "execution_count": 2,
   "metadata": {},
   "outputs": [
    {
     "name": "stdout",
     "output_type": "stream",
     "text": [
      "Recommendations for userId 11:\n",
      "\n",
      "1: movieId 176, with distance of 0.6460420995567477:\n",
      "2: movieId 486, with distance of 0.7044585254811317:\n",
      "3: movieId 133, with distance of 0.7045454545454546:\n",
      "4: movieId 602, with distance of 0.7073192634993539:\n",
      "5: movieId 93, with distance of 0.7142094682854392:\n",
      "6: movieId 235, with distance of 0.719926303448362:\n",
      "7: movieId 229, with distance of 0.7259779660536856:\n",
      "8: movieId 81, with distance of 0.7261468098918477:\n",
      "9: movieId 485, with distance of 0.726905219663981:\n",
      "10: movieId 33, with distance of 0.7315346713854005:\n"
     ]
    }
   ],
   "source": [
    "import numpy as np\n",
    "import pandas as pd\n",
    "from scipy.sparse import csr_matrix\n",
    "from sklearn.neighbors import NearestNeighbors\n",
    "\n",
    "CUTOFF = 10 # Minimum number of ratings for a movie to be considered\n",
    "IDX = 10    # Index of user to get recommendations for\n",
    "\n",
    "# Read data\n",
    "train = pd.read_csv('../data/train.csv')\n",
    "val = pd.read_csv('../data/val.csv')\n",
    "test = pd.read_csv('../data/test.csv')\n",
    "\n",
    "\n",
    "# Data Preprocessing\n",
    "train.drop(columns=['timestamp'],inplace=True)\n",
    "rating_count = train.groupby('title')['rating'].count().reset_index()\n",
    "rating_count.rename(columns={'rating':'rating_count'},inplace=True)\n",
    "df = train.merge(rating_count, on='title')\n",
    "df = df[df['rating_count']>=CUTOFF] \n",
    "df.drop_duplicates(['title','userId'],inplace=True)\n",
    "pivot = df.pivot_table(index='userId', columns='movieId', values='rating')\n",
    "pivot = pivot.fillna(0)\n",
    "csr_pivot = csr_matrix(pivot.values)\n",
    "\n",
    "\n",
    "# KNN model\n",
    "model = NearestNeighbors(metric='cosine', algorithm='brute')\n",
    "model.fit(csr_pivot)\n",
    "\n",
    "# 10 recommendations of user index\n",
    "distances, recommendations = model.kneighbors(pivot.iloc[IDX,:].values.reshape(1, -1), n_neighbors=11)\n",
    "\n",
    "# Print top 10 recommendations\n",
    "for movie in range(0, len(distances.flatten())):\n",
    "    if (movie == 0):\n",
    "        print(\"Recommendations for userId {0}:\\n\".format(pivot.index[IDX]))\n",
    "    else:\n",
    "        print(\"{0}: movieId {1}, with distance of {2}:\".format(movie, pivot.index[recommendations.flatten()[movie]], distances.flatten()[movie]))\n"
   ]
  },
  {
   "cell_type": "code",
   "execution_count": 3,
   "metadata": {},
   "outputs": [],
   "source": [
    "distances, recommendations = model.kneighbors(pivot.values, n_neighbors=101)"
   ]
  },
  {
   "cell_type": "code",
   "execution_count": 3,
   "metadata": {},
   "outputs": [],
   "source": [
    "pd.DataFrame(recommendations).to_csv('../data/baseline.csv',index=False)"
   ]
  }
 ],
 "metadata": {
  "interpreter": {
   "hash": "40d3a090f54c6569ab1632332b64b2c03c39dcf918b08424e98f38b5ae0af88f"
  },
  "kernelspec": {
   "display_name": "Python 3",
   "language": "python",
   "name": "python3"
  },
  "language_info": {
   "codemirror_mode": {
    "name": "ipython",
    "version": 3
   },
   "file_extension": ".py",
   "mimetype": "text/x-python",
   "name": "python",
   "nbconvert_exporter": "python",
   "pygments_lexer": "ipython3",
   "version": "3.8.5"
  }
 },
 "nbformat": 4,
 "nbformat_minor": 4
}
